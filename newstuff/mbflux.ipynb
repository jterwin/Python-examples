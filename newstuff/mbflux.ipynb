{
 "cells": [
  {
   "cell_type": "code",
   "execution_count": 1,
   "metadata": {
    "collapsed": false
   },
   "outputs": [],
   "source": [
    "from pylab import *\n",
    "from scipy.integrate import quad\n",
    "from scipy.optimize import brentq\n",
    "\n",
    "%matplotlib inline\n"
   ]
  },
  {
   "cell_type": "markdown",
   "metadata": {},
   "source": [
    "# Creating a inverse CDF for the Maxwell Flux Distribution:"
   ]
  },
  {
   "cell_type": "markdown",
   "metadata": {},
   "source": [
    "When we have a gas in LTE, we can assume the velocity follows a Maxwell distribution\n",
    "\\begin{align}\n",
    "f(\\vec{v}) &= n \\left( \\frac{m}{\\pi k T} \\right)^{3/2}\\exp\\left(-\\frac{1}{2}\\frac{\\vec{v}^2}{kT/m}\\right)\n",
    "    &= \\frac{1}{(\\sqrt\\pi v_t)^3} \\exp \\left(-\\frac{1}{2}\\frac{\\vec{v}^2}{v_t^2} \\right)\n",
    "\\end{align}\n",
    "In the above $\\vec{v}$ is the velocity vector, while below I will use $v$ as the velocity magnitude, and $v_t$ is the thermal speed.\n",
    "\n",
    "We can look at the flux of particles moving upward by computing\n",
    "\\begin{align}\n",
    "F_z &= \\iiint\\limits_{v_z>0} v_z f(\\vec{v}) d\\vec{v} \\\\\n",
    "    &= n \\int\\limits_0^{2\\pi} \\int\\limits_0^{\\pi/2} \\int\\limits_0^\\infty v \\cos(\\theta) \\frac{1}{(\\sqrt\\pi v_t)^3} \\exp \\left(-\\frac{1}{2}\\frac{\\vec{v}^2}{v_t^2} \\right) v^2 sin(\\theta) dv d\\theta d\\phi \\\\\n",
    "    &= n \\int\\limits_0^{2\\pi} d\\phi \\int\\limits_0^{\\pi/2} \\cos\\theta \\sin\\theta d\\theta \\int\\limits_0^\\infty \\frac{1}{(\\sqrt\\pi v_t)^3} \\exp \\left(-\\frac{1}{2}\\frac{v^2}{v_t^2}\\right) v^3 dv \\\\\n",
    "    &= n \\cdot 2\\pi \\cdot \\frac{1}{2} \\cdot \\frac{v_t}{\\sqrt\\pi}\\int\\limits_0^\\infty (v^\\prime)^3\\exp(-\\frac{1}{2}(v^\\prime)^2)dv^\\prime \\\\\n",
    "    &= \\frac{1}{2\\sqrt\\pi} n v_t = \\frac{1}{4}n\\langle v \\rangle\n",
    "\\end{align}\n",
    "where $\\langle v \\rangle = \\sqrt{8kT/m\\pi}$ is the most probable speed. \n",
    "\n",
    "The above derivation shows the flux passing through a surface depends of the density and temperatue. If we restricted the integral to be only speeds greater that the escape velocity we can obtain the espression for Jeans escape. But I purposely left the last integral in terms of $v^\\prime=v/v_t$. The integrand is the un-normalized PDF for the Maxwell Boltzmann Flux in terms of speed. By replacing the upper bound of $\\infty$ with $v$ and normalizing, we obtain the CDF for the Maxwell Boltzmann Flux in terms of speed. Below I plot the CDF\n"
   ]
  },
  {
   "cell_type": "code",
   "execution_count": 2,
   "metadata": {
    "collapsed": false
   },
   "outputs": [
    {
     "data": {
      "image/png": "[encoded data removed]",
      "text/plain": [
       "<matplotlib.figure.Figure at 0x108902050>"
      ]
     },
     "metadata": {},
     "output_type": "display_data"
    }
   ],
   "source": [
    "def mbf_cdf(vp):\n",
    "    return  quad( lambda x: x**3*exp(-x**2/2.), 0, vp)[0]/2.0\n",
    "\n",
    "vlin = linspace(0,5)\n",
    "\n",
    "figure()\n",
    "plot(vlin,map(mbf_cdf,vlin))\n",
    "xlabel('$v/v_t$')\n",
    "ylabel('CDF')\n",
    "title('Maxwell-Boltzmann Flux CDF')\n",
    "show()"
   ]
  },
  {
   "cell_type": "markdown",
   "metadata": {},
   "source": [
    "## Inverting the CDF"
   ]
  },
  {
   "cell_type": "markdown",
   "metadata": {},
   "source": [
    "In simulations, we would prefer to have the CDF tabulated on an equally spaced grid on the y-axis in the above figure, so that if we pick a random number uniformly distributed between 0 and 1, we can quickly obtain a speed that follow the MBF.\n",
    "\\begin{equation}\n",
    "v(r) = v\\ s.t.\\ \\frac{1}{2}\\int\\limits_0^v (v^\\prime)^3\\exp(-\\frac{1}{2}(v^\\prime)^2)dv^\\prime = r\n",
    "\\end{equation}"
   ]
  },
  {
   "cell_type": "code",
   "execution_count": 3,
   "metadata": {
    "collapsed": false
   },
   "outputs": [
    {
     "data": {
      "image/png": "[encoded data removed]",
      "text/plain": [
       "<matplotlib.figure.Figure at 0x1089ef050>"
      ]
     },
     "metadata": {},
     "output_type": "display_data"
    }
   ],
   "source": [
    "N = 100\n",
    "ir = linspace(0,1,N+1)\n",
    "CDF = zeros(N+1)\n",
    "\n",
    "# Fill in CDF \n",
    "#for i in arange(1,N+1):\n",
    "#    CDF[i] = brentq( lambda x: mbf_cdf(x)-ir[i], 0, 10) \n",
    "CDF = [brentq( lambda x: mbf_cdf(x)-r, 0, 10) for r in ir]\n",
    "\n",
    "figure()\n",
    "plot(ir,CDF)\n",
    "xlabel(\"ir\")\n",
    "ylabel(\"CDF\")\n",
    "title(\"Inverted MBF CDF\")\n",
    "show()"
   ]
  },
  {
   "cell_type": "markdown",
   "metadata": {},
   "source": [
    "Now the above values can be used as a lookup table for velocities in a simulation. Though some refinement near $r=1.0$ should be considered as well.\n",
    "\n"
   ]
  },
  {
   "cell_type": "code",
   "execution_count": 3,
   "metadata": {
    "collapsed": false
   },
   "outputs": [],
   "source": []
  },
  {
   "cell_type": "code",
   "execution_count": 3,
   "metadata": {
    "collapsed": false
   },
   "outputs": [],
   "source": []
  },
  {
   "cell_type": "code",
   "execution_count": 3,
   "metadata": {
    "collapsed": false
   },
   "outputs": [],
   "source": []
  },
  {
   "cell_type": "code",
   "execution_count": null,
   "metadata": {
    "collapsed": false
   },
   "outputs": [],
   "source": []
  }
 ],
 "metadata": {
  "kernelspec": {
   "display_name": "Python 2",
   "language": "python",
   "name": "python2"
  },
  "language_info": {
   "codemirror_mode": {
    "name": "ipython",
    "version": 2
   },
   "file_extension": ".py",
   "mimetype": "text/x-python",
   "name": "python",
   "nbconvert_exporter": "python",
   "pygments_lexer": "ipython2",
   "version": "2.7.10"
  }
 },
 "nbformat": 4,
 "nbformat_minor": 0
}
